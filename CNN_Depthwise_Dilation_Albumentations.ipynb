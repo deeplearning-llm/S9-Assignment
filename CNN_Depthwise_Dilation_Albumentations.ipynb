{
  "nbformat": 4,
  "nbformat_minor": 0,
  "metadata": {
    "colab": {
      "provenance": [],
      "gpuType": "T4"
    },
    "kernelspec": {
      "name": "python3",
      "display_name": "Python 3"
    },
    "language_info": {
      "name": "python"
    },
    "accelerator": "GPU"
  },
  "cells": [
    {
      "cell_type": "markdown",
      "source": [
        "### Import Libraries"
      ],
      "metadata": {
        "id": "YPUaxfJQcZ1q"
      }
    },
    {
      "cell_type": "code",
      "source": [
        "from __future__ import print_function\n",
        "import matplotlib.pyplot as plt\n",
        "import numpy as np\n",
        "import torch\n",
        "import torch.nn as nn\n",
        "import torch.nn.functional as F\n",
        "import torch.optim as optim\n",
        "import load_data\n",
        "import model\n",
        "import training\n",
        "import utils"
      ],
      "metadata": {
        "id": "goqNZ2hlcC-U"
      },
      "execution_count": 1,
      "outputs": []
    },
    {
      "cell_type": "markdown",
      "source": [
        "### Creating training and test Data using Data Loaders"
      ],
      "metadata": {
        "id": "R3FcOwcJcr3k"
      }
    },
    {
      "cell_type": "code",
      "source": [
        "train_loader,test_loader = load_data.cifar10_train_test_data()"
      ],
      "metadata": {
        "colab": {
          "base_uri": "https://localhost:8080/"
        },
        "id": "PxS7gEYdcNHF",
        "outputId": "441e452f-a605-4c26-d1ad-210c031cfcc5"
      },
      "execution_count": 2,
      "outputs": [
        {
          "output_type": "stream",
          "name": "stdout",
          "text": [
            "Files already downloaded and verified\n",
            "Files already downloaded and verified\n",
            "CUDA Available? True\n"
          ]
        },
        {
          "output_type": "stream",
          "name": "stderr",
          "text": [
            "/usr/local/lib/python3.10/dist-packages/torch/utils/data/dataloader.py:560: UserWarning: This DataLoader will create 4 worker processes in total. Our suggested max number of worker in current system is 2, which is smaller than what this DataLoader is going to create. Please be aware that excessive worker creation might get DataLoader running slow or even freeze, lower the worker number to avoid potential slowness/freeze if necessary.\n",
            "  warnings.warn(_create_warning_msg(\n"
          ]
        }
      ]
    },
    {
      "cell_type": "markdown",
      "source": [
        "### Data Visualization\n",
        "let's have a look at some of the images the CIFAR10 data set"
      ],
      "metadata": {
        "id": "6QkjRmypdSc1"
      }
    },
    {
      "cell_type": "code",
      "source": [
        "# get some random training images\n",
        "dataiter = iter(train_loader)\n",
        "images, labels = next(dataiter)\n",
        "classes = ('plane', 'car', 'bird', 'cat',\n",
        "           'deer', 'dog', 'frog', 'horse', 'ship', 'truck')\n",
        "\n",
        "cols = 5\n",
        "rows = 4\n",
        "fig, axs = plt.subplots(rows, cols, figsize=(12, 9))\n",
        "counter= 0\n",
        "rnd_idx = list(range(20))\n",
        "for x in range(rows):\n",
        "  for y in range(cols):\n",
        "    axs[x, y].set_title(classes[labels[rnd_idx[counter]]])\n",
        "    axs[x, y].imshow(utils.imshow_(images[counter]))\n",
        "    axs[x, y].set_axis_off()\n",
        "    counter+=1\n",
        "\n",
        "plt.show()"
      ],
      "metadata": {
        "colab": {
          "base_uri": "https://localhost:8080/",
          "height": 1000
        },
        "id": "aDkKqEBbc3tg",
        "outputId": "9e7b9c06-f4a1-49e1-c9c3-3dc5ada1f4ba"
      },
      "execution_count": 3,
      "outputs": [
        {
          "output_type": "stream",
          "name": "stderr",
          "text": [
            "WARNING:matplotlib.image:Clipping input data to the valid range for imshow with RGB data ([0..1] for floats or [0..255] for integers).\n",
            "WARNING:matplotlib.image:Clipping input data to the valid range for imshow with RGB data ([0..1] for floats or [0..255] for integers).\n",
            "WARNING:matplotlib.image:Clipping input data to the valid range for imshow with RGB data ([0..1] for floats or [0..255] for integers).\n",
            "WARNING:matplotlib.image:Clipping input data to the valid range for imshow with RGB data ([0..1] for floats or [0..255] for integers).\n",
            "WARNING:matplotlib.image:Clipping input data to the valid range for imshow with RGB data ([0..1] for floats or [0..255] for integers).\n",
            "WARNING:matplotlib.image:Clipping input data to the valid range for imshow with RGB data ([0..1] for floats or [0..255] for integers).\n",
            "WARNING:matplotlib.image:Clipping input data to the valid range for imshow with RGB data ([0..1] for floats or [0..255] for integers).\n",
            "WARNING:matplotlib.image:Clipping input data to the valid range for imshow with RGB data ([0..1] for floats or [0..255] for integers).\n",
            "WARNING:matplotlib.image:Clipping input data to the valid range for imshow with RGB data ([0..1] for floats or [0..255] for integers).\n",
            "WARNING:matplotlib.image:Clipping input data to the valid range for imshow with RGB data ([0..1] for floats or [0..255] for integers).\n",
            "WARNING:matplotlib.image:Clipping input data to the valid range for imshow with RGB data ([0..1] for floats or [0..255] for integers).\n",
            "WARNING:matplotlib.image:Clipping input data to the valid range for imshow with RGB data ([0..1] for floats or [0..255] for integers).\n",
            "WARNING:matplotlib.image:Clipping input data to the valid range for imshow with RGB data ([0..1] for floats or [0..255] for integers).\n",
            "WARNING:matplotlib.image:Clipping input data to the valid range for imshow with RGB data ([0..1] for floats or [0..255] for integers).\n",
            "WARNING:matplotlib.image:Clipping input data to the valid range for imshow with RGB data ([0..1] for floats or [0..255] for integers).\n",
            "WARNING:matplotlib.image:Clipping input data to the valid range for imshow with RGB data ([0..1] for floats or [0..255] for integers).\n",
            "WARNING:matplotlib.image:Clipping input data to the valid range for imshow with RGB data ([0..1] for floats or [0..255] for integers).\n",
            "WARNING:matplotlib.image:Clipping input data to the valid range for imshow with RGB data ([0..1] for floats or [0..255] for integers).\n",
            "WARNING:matplotlib.image:Clipping input data to the valid range for imshow with RGB data ([0..1] for floats or [0..255] for integers).\n",
            "WARNING:matplotlib.image:Clipping input data to the valid range for imshow with RGB data ([0..1] for floats or [0..255] for integers).\n"
          ]
        },
        {
          "output_type": "display_data",
          "data": {
            "text/plain": [
              "<Figure size 1200x900 with 20 Axes>"
            ],
            "image/png": "[encoded data removed]"
          },
          "metadata": {}
        }
      ]
    },
    {
      "cell_type": "markdown",
      "source": [
        "### Loading our CNN Model and Summarizing the Params"
      ],
      "metadata": {
        "id": "Au7MV2HUfEjD"
      }
    },
    {
      "cell_type": "code",
      "source": [
        "!pip install torchsummary\n",
        "from torchsummary import summary\n",
        "use_cuda = torch.cuda.is_available()\n",
        "device = torch.device(\"cuda\" if use_cuda else \"cpu\")\n",
        "print(device)\n",
        "model = model.Net().to(device)\n",
        "summary(model, input_size=(3, 32, 32))"
      ],
      "metadata": {
        "colab": {
          "base_uri": "https://localhost:8080/"
        },
        "id": "PsFq7D88easa",
        "outputId": "227e7e2f-95c8-44c4-da54-383474b50937"
      },
      "execution_count": 5,
      "outputs": [
        {
          "output_type": "stream",
          "name": "stdout",
          "text": [
            "Requirement already satisfied: torchsummary in /usr/local/lib/python3.10/dist-packages (1.5.1)\n",
            "cuda\n",
            "----------------------------------------------------------------\n",
            "        Layer (type)               Output Shape         Param #\n",
            "================================================================\n",
            "            Conv2d-1          [-1, 128, 34, 34]           3,456\n",
            "              ReLU-2          [-1, 128, 34, 34]               0\n",
            "       BatchNorm2d-3          [-1, 128, 34, 34]             256\n",
            "           Dropout-4          [-1, 128, 34, 34]               0\n",
            "            Conv2d-5          [-1, 128, 36, 36]           1,152\n",
            "            Conv2d-6           [-1, 64, 36, 36]           8,192\n",
            "              ReLU-7           [-1, 64, 36, 36]               0\n",
            "       BatchNorm2d-8           [-1, 64, 36, 36]             128\n",
            "           Dropout-9           [-1, 64, 36, 36]               0\n",
            "           Conv2d-10           [-1, 32, 18, 18]          18,432\n",
            "      BatchNorm2d-11           [-1, 32, 18, 18]              64\n",
            "          Dropout-12           [-1, 32, 18, 18]               0\n",
            "           Conv2d-13           [-1, 32, 20, 20]             288\n",
            "           Conv2d-14          [-1, 256, 20, 20]           8,192\n",
            "             ReLU-15          [-1, 256, 20, 20]               0\n",
            "      BatchNorm2d-16          [-1, 256, 20, 20]             512\n",
            "          Dropout-17          [-1, 256, 20, 20]               0\n",
            "           Conv2d-18          [-1, 256, 22, 22]           2,304\n",
            "           Conv2d-19           [-1, 70, 22, 22]          17,920\n",
            "             ReLU-20           [-1, 70, 22, 22]               0\n",
            "      BatchNorm2d-21           [-1, 70, 22, 22]             140\n",
            "          Dropout-22           [-1, 70, 22, 22]               0\n",
            "           Conv2d-23           [-1, 32, 11, 11]          20,160\n",
            "      BatchNorm2d-24           [-1, 32, 11, 11]              64\n",
            "          Dropout-25           [-1, 32, 11, 11]               0\n",
            "           Conv2d-26           [-1, 32, 13, 13]             288\n",
            "           Conv2d-27          [-1, 128, 13, 13]           4,096\n",
            "             ReLU-28          [-1, 128, 13, 13]               0\n",
            "      BatchNorm2d-29          [-1, 128, 13, 13]             256\n",
            "          Dropout-30          [-1, 128, 13, 13]               0\n",
            "           Conv2d-31          [-1, 128, 15, 15]           1,152\n",
            "           Conv2d-32          [-1, 128, 15, 15]          16,384\n",
            "             ReLU-33          [-1, 128, 15, 15]               0\n",
            "      BatchNorm2d-34          [-1, 128, 15, 15]             256\n",
            "          Dropout-35          [-1, 128, 15, 15]               0\n",
            "           Conv2d-36             [-1, 32, 8, 8]          36,864\n",
            "      BatchNorm2d-37             [-1, 32, 8, 8]              64\n",
            "          Dropout-38             [-1, 32, 8, 8]               0\n",
            "           Conv2d-39           [-1, 32, 10, 10]             288\n",
            "           Conv2d-40          [-1, 100, 10, 10]           3,200\n",
            "             ReLU-41          [-1, 100, 10, 10]               0\n",
            "      BatchNorm2d-42          [-1, 100, 10, 10]             200\n",
            "          Dropout-43          [-1, 100, 10, 10]               0\n",
            "           Conv2d-44          [-1, 100, 12, 12]             900\n",
            "           Conv2d-45           [-1, 64, 12, 12]           6,400\n",
            "             ReLU-46           [-1, 64, 12, 12]               0\n",
            "      BatchNorm2d-47           [-1, 64, 12, 12]             128\n",
            "          Dropout-48           [-1, 64, 12, 12]               0\n",
            "           Conv2d-49             [-1, 80, 7, 7]          46,080\n",
            "      BatchNorm2d-50             [-1, 80, 7, 7]             160\n",
            "        AvgPool2d-51             [-1, 80, 1, 1]               0\n",
            "           Conv2d-52             [-1, 10, 1, 1]             800\n",
            "================================================================\n",
            "Total params: 198,776\n",
            "Trainable params: 198,776\n",
            "Non-trainable params: 0\n",
            "----------------------------------------------------------------\n",
            "Input size (MB): 0.01\n",
            "Forward/backward pass size (MB): 16.47\n",
            "Params size (MB): 0.76\n",
            "Estimated Total Size (MB): 17.24\n",
            "----------------------------------------------------------------\n"
          ]
        }
      ]
    },
    {
      "cell_type": "markdown",
      "source": [
        "### Let's Train and Test our model"
      ],
      "metadata": {
        "id": "vIpKbzeygsX-"
      }
    },
    {
      "cell_type": "code",
      "source": [
        "optimizer = optim.SGD(model.parameters(), lr=0.01, momentum=0.9)\n",
        "#scheduler = StepLR(optimizer, step_size=3, gamma=0.1)\n",
        "train_losses = []\n",
        "train_acc = []\n",
        "test_losses = []\n",
        "test_acc = []\n",
        "EPOCHS = 121\n",
        "for epoch in range(EPOCHS):\n",
        "    print(\"EPOCH:\", epoch)\n",
        "    train_loss , train_accuracy = training.train(model, device, train_loader, optimizer, epoch)\n",
        "    test_loss , test_accuracy = training.test(model, device, test_loader)\n",
        "    train_losses.extend(train_loss),train_acc.extend(train_accuracy)\n",
        "    test_losses.extend(test_loss),test_acc.extend(test_accuracy)"
      ],
      "metadata": {
        "colab": {
          "base_uri": "https://localhost:8080/"
        },
        "id": "-csIf_9ygdi6",
        "outputId": "2eba2480-9d3d-44a3-bee6-16ef756c989f"
      },
      "execution_count": 6,
      "outputs": [
        {
          "output_type": "stream",
          "name": "stdout",
          "text": [
            "EPOCH: 0\n"
          ]
        },
        {
          "output_type": "stream",
          "name": "stderr",
          "text": [
            "\r  0%|          | 0/98 [00:00<?, ?it/s]/usr/local/lib/python3.10/dist-packages/torch/utils/data/dataloader.py:560: UserWarning: This DataLoader will create 4 worker processes in total. Our suggested max number of worker in current system is 2, which is smaller than what this DataLoader is going to create. Please be aware that excessive worker creation might get DataLoader running slow or even freeze, lower the worker number to avoid potential slowness/freeze if necessary.\n",
            "  warnings.warn(_create_warning_msg(\n",
            "Loss=1.6759477853775024 Batch_id=97 Accuracy=26.54: 100%|██████████| 98/98 [00:22<00:00,  4.31it/s]\n"
          ]
        },
        {
          "output_type": "stream",
          "name": "stdout",
          "text": [
            "\n",
            "Test set: Average loss: 1.6704, Accuracy: 3859/10000 (38.59%)\n",
            "\n",
            "EPOCH: 1\n"
          ]
        },
        {
          "output_type": "stream",
          "name": "stderr",
          "text": [
            "Loss=1.5086228847503662 Batch_id=97 Accuracy=41.43: 100%|██████████| 98/98 [00:22<00:00,  4.39it/s]\n"
          ]
        },
        {
          "output_type": "stream",
          "name": "stdout",
          "text": [
            "\n",
            "Test set: Average loss: 1.5181, Accuracy: 4448/10000 (44.48%)\n",
            "\n",
            "EPOCH: 2\n"
          ]
        },
        {
          "output_type": "stream",
          "name": "stderr",
          "text": [
            "Loss=1.3071801662445068 Batch_id=97 Accuracy=47.39: 100%|██████████| 98/98 [00:23<00:00,  4.23it/s]\n"
          ]
        },
        {
          "output_type": "stream",
          "name": "stdout",
          "text": [
            "\n",
            "Test set: Average loss: 1.3552, Accuracy: 5087/10000 (50.87%)\n",
            "\n",
            "EPOCH: 3\n"
          ]
        },
        {
          "output_type": "stream",
          "name": "stderr",
          "text": [
            "Loss=1.2124245166778564 Batch_id=97 Accuracy=51.47: 100%|██████████| 98/98 [00:22<00:00,  4.37it/s]\n"
          ]
        },
        {
          "output_type": "stream",
          "name": "stdout",
          "text": [
            "\n",
            "Test set: Average loss: 1.2406, Accuracy: 5460/10000 (54.60%)\n",
            "\n",
            "EPOCH: 4\n"
          ]
        },
        {
          "output_type": "stream",
          "name": "stderr",
          "text": [
            "Loss=1.2015764713287354 Batch_id=97 Accuracy=54.73: 100%|██████████| 98/98 [00:22<00:00,  4.33it/s]\n"
          ]
        },
        {
          "output_type": "stream",
          "name": "stdout",
          "text": [
            "\n",
            "Test set: Average loss: 1.2578, Accuracy: 5539/10000 (55.39%)\n",
            "\n",
            "EPOCH: 5\n"
          ]
        },
        {
          "output_type": "stream",
          "name": "stderr",
          "text": [
            "Loss=1.2201528549194336 Batch_id=97 Accuracy=57.11: 100%|██████████| 98/98 [00:22<00:00,  4.33it/s]\n"
          ]
        },
        {
          "output_type": "stream",
          "name": "stdout",
          "text": [
            "\n",
            "Test set: Average loss: 1.1473, Accuracy: 5825/10000 (58.25%)\n",
            "\n",
            "EPOCH: 6\n"
          ]
        },
        {
          "output_type": "stream",
          "name": "stderr",
          "text": [
            "Loss=1.044391393661499 Batch_id=97 Accuracy=58.79: 100%|██████████| 98/98 [00:22<00:00,  4.35it/s]\n"
          ]
        },
        {
          "output_type": "stream",
          "name": "stdout",
          "text": [
            "\n",
            "Test set: Average loss: 1.0974, Accuracy: 6088/10000 (60.88%)\n",
            "\n",
            "EPOCH: 7\n"
          ]
        },
        {
          "output_type": "stream",
          "name": "stderr",
          "text": [
            "Loss=1.0274919271469116 Batch_id=97 Accuracy=61.04: 100%|██████████| 98/98 [00:22<00:00,  4.31it/s]\n"
          ]
        },
        {
          "output_type": "stream",
          "name": "stdout",
          "text": [
            "\n",
            "Test set: Average loss: 1.0408, Accuracy: 6334/10000 (63.34%)\n",
            "\n",
            "EPOCH: 8\n"
          ]
        },
        {
          "output_type": "stream",
          "name": "stderr",
          "text": [
            "Loss=1.079638123512268 Batch_id=97 Accuracy=62.38: 100%|██████████| 98/98 [00:22<00:00,  4.32it/s]\n"
          ]
        },
        {
          "output_type": "stream",
          "name": "stdout",
          "text": [
            "\n",
            "Test set: Average loss: 0.9806, Accuracy: 6536/10000 (65.36%)\n",
            "\n",
            "EPOCH: 9\n"
          ]
        },
        {
          "output_type": "stream",
          "name": "stderr",
          "text": [
            "Loss=0.9784290790557861 Batch_id=97 Accuracy=63.67: 100%|██████████| 98/98 [00:22<00:00,  4.37it/s]\n"
          ]
        },
        {
          "output_type": "stream",
          "name": "stdout",
          "text": [
            "\n",
            "Test set: Average loss: 0.9656, Accuracy: 6560/10000 (65.60%)\n",
            "\n",
            "EPOCH: 10\n"
          ]
        },
        {
          "output_type": "stream",
          "name": "stderr",
          "text": [
            "Loss=1.0358457565307617 Batch_id=97 Accuracy=65.16: 100%|██████████| 98/98 [00:22<00:00,  4.33it/s]\n"
          ]
        },
        {
          "output_type": "stream",
          "name": "stdout",
          "text": [
            "\n",
            "Test set: Average loss: 0.9518, Accuracy: 6640/10000 (66.40%)\n",
            "\n",
            "EPOCH: 11\n"
          ]
        },
        {
          "output_type": "stream",
          "name": "stderr",
          "text": [
            "Loss=0.9550784826278687 Batch_id=97 Accuracy=66.03: 100%|██████████| 98/98 [00:22<00:00,  4.35it/s]\n"
          ]
        },
        {
          "output_type": "stream",
          "name": "stdout",
          "text": [
            "\n",
            "Test set: Average loss: 0.8721, Accuracy: 6878/10000 (68.78%)\n",
            "\n",
            "EPOCH: 12\n"
          ]
        },
        {
          "output_type": "stream",
          "name": "stderr",
          "text": [
            "Loss=0.922383189201355 Batch_id=97 Accuracy=67.20: 100%|██████████| 98/98 [00:22<00:00,  4.35it/s]\n"
          ]
        },
        {
          "output_type": "stream",
          "name": "stdout",
          "text": [
            "\n",
            "Test set: Average loss: 0.8676, Accuracy: 6913/10000 (69.13%)\n",
            "\n",
            "EPOCH: 13\n"
          ]
        },
        {
          "output_type": "stream",
          "name": "stderr",
          "text": [
            "Loss=0.867417573928833 Batch_id=97 Accuracy=68.00: 100%|██████████| 98/98 [00:22<00:00,  4.28it/s]\n"
          ]
        },
        {
          "output_type": "stream",
          "name": "stdout",
          "text": [
            "\n",
            "Test set: Average loss: 0.8946, Accuracy: 6872/10000 (68.72%)\n",
            "\n",
            "EPOCH: 14\n"
          ]
        },
        {
          "output_type": "stream",
          "name": "stderr",
          "text": [
            "Loss=0.8597214818000793 Batch_id=97 Accuracy=68.68: 100%|██████████| 98/98 [00:22<00:00,  4.33it/s]\n"
          ]
        },
        {
          "output_type": "stream",
          "name": "stdout",
          "text": [
            "\n",
            "Test set: Average loss: 0.8338, Accuracy: 7068/10000 (70.68%)\n",
            "\n",
            "EPOCH: 15\n"
          ]
        },
        {
          "output_type": "stream",
          "name": "stderr",
          "text": [
            "Loss=0.8803960084915161 Batch_id=97 Accuracy=69.78: 100%|██████████| 98/98 [00:22<00:00,  4.34it/s]\n"
          ]
        },
        {
          "output_type": "stream",
          "name": "stdout",
          "text": [
            "\n",
            "Test set: Average loss: 0.8669, Accuracy: 6964/10000 (69.64%)\n",
            "\n",
            "EPOCH: 16\n"
          ]
        },
        {
          "output_type": "stream",
          "name": "stderr",
          "text": [
            "Loss=0.7656888365745544 Batch_id=97 Accuracy=70.14: 100%|██████████| 98/98 [00:22<00:00,  4.35it/s]\n"
          ]
        },
        {
          "output_type": "stream",
          "name": "stdout",
          "text": [
            "\n",
            "Test set: Average loss: 0.7751, Accuracy: 7285/10000 (72.85%)\n",
            "\n",
            "EPOCH: 17\n"
          ]
        },
        {
          "output_type": "stream",
          "name": "stderr",
          "text": [
            "Loss=0.809536874294281 Batch_id=97 Accuracy=70.92: 100%|██████████| 98/98 [00:22<00:00,  4.35it/s]\n"
          ]
        },
        {
          "output_type": "stream",
          "name": "stdout",
          "text": [
            "\n",
            "Test set: Average loss: 0.7630, Accuracy: 7317/10000 (73.17%)\n",
            "\n",
            "EPOCH: 18\n"
          ]
        },
        {
          "output_type": "stream",
          "name": "stderr",
          "text": [
            "Loss=0.8315119743347168 Batch_id=97 Accuracy=71.61: 100%|██████████| 98/98 [00:22<00:00,  4.35it/s]\n"
          ]
        },
        {
          "output_type": "stream",
          "name": "stdout",
          "text": [
            "\n",
            "Test set: Average loss: 0.7672, Accuracy: 7325/10000 (73.25%)\n",
            "\n",
            "EPOCH: 19\n"
          ]
        },
        {
          "output_type": "stream",
          "name": "stderr",
          "text": [
            "Loss=0.8601797819137573 Batch_id=97 Accuracy=72.08: 100%|██████████| 98/98 [00:22<00:00,  4.28it/s]\n"
          ]
        },
        {
          "output_type": "stream",
          "name": "stdout",
          "text": [
            "\n",
            "Test set: Average loss: 0.7279, Accuracy: 7484/10000 (74.84%)\n",
            "\n",
            "EPOCH: 20\n"
          ]
        },
        {
          "output_type": "stream",
          "name": "stderr",
          "text": [
            "Loss=0.7264398336410522 Batch_id=97 Accuracy=72.62: 100%|██████████| 98/98 [00:22<00:00,  4.32it/s]\n"
          ]
        },
        {
          "output_type": "stream",
          "name": "stdout",
          "text": [
            "\n",
            "Test set: Average loss: 0.7263, Accuracy: 7498/10000 (74.98%)\n",
            "\n",
            "EPOCH: 21\n"
          ]
        },
        {
          "output_type": "stream",
          "name": "stderr",
          "text": [
            "Loss=0.7569827437400818 Batch_id=97 Accuracy=73.04: 100%|██████████| 98/98 [00:22<00:00,  4.32it/s]\n"
          ]
        },
        {
          "output_type": "stream",
          "name": "stdout",
          "text": [
            "\n",
            "Test set: Average loss: 0.6798, Accuracy: 7625/10000 (76.25%)\n",
            "\n",
            "EPOCH: 22\n"
          ]
        },
        {
          "output_type": "stream",
          "name": "stderr",
          "text": [
            "Loss=0.6903191804885864 Batch_id=97 Accuracy=73.65: 100%|██████████| 98/98 [00:22<00:00,  4.34it/s]\n"
          ]
        },
        {
          "output_type": "stream",
          "name": "stdout",
          "text": [
            "\n",
            "Test set: Average loss: 0.6839, Accuracy: 7670/10000 (76.70%)\n",
            "\n",
            "EPOCH: 23\n"
          ]
        },
        {
          "output_type": "stream",
          "name": "stderr",
          "text": [
            "Loss=0.8067589998245239 Batch_id=97 Accuracy=74.26: 100%|██████████| 98/98 [00:22<00:00,  4.31it/s]\n"
          ]
        },
        {
          "output_type": "stream",
          "name": "stdout",
          "text": [
            "\n",
            "Test set: Average loss: 0.6663, Accuracy: 7744/10000 (77.44%)\n",
            "\n",
            "EPOCH: 24\n"
          ]
        },
        {
          "output_type": "stream",
          "name": "stderr",
          "text": [
            "Loss=0.66899174451828 Batch_id=97 Accuracy=74.43: 100%|██████████| 98/98 [00:22<00:00,  4.34it/s]\n"
          ]
        },
        {
          "output_type": "stream",
          "name": "stdout",
          "text": [
            "\n",
            "Test set: Average loss: 0.6505, Accuracy: 7807/10000 (78.07%)\n",
            "\n",
            "EPOCH: 25\n"
          ]
        },
        {
          "output_type": "stream",
          "name": "stderr",
          "text": [
            "Loss=0.6552828550338745 Batch_id=97 Accuracy=75.06: 100%|██████████| 98/98 [00:22<00:00,  4.34it/s]\n"
          ]
        },
        {
          "output_type": "stream",
          "name": "stdout",
          "text": [
            "\n",
            "Test set: Average loss: 0.6654, Accuracy: 7724/10000 (77.24%)\n",
            "\n",
            "EPOCH: 26\n"
          ]
        },
        {
          "output_type": "stream",
          "name": "stderr",
          "text": [
            "Loss=0.7257978916168213 Batch_id=97 Accuracy=75.35: 100%|██████████| 98/98 [00:22<00:00,  4.35it/s]\n"
          ]
        },
        {
          "output_type": "stream",
          "name": "stdout",
          "text": [
            "\n",
            "Test set: Average loss: 0.6940, Accuracy: 7651/10000 (76.51%)\n",
            "\n",
            "EPOCH: 27\n"
          ]
        },
        {
          "output_type": "stream",
          "name": "stderr",
          "text": [
            "Loss=0.6717712879180908 Batch_id=97 Accuracy=76.26: 100%|██████████| 98/98 [00:22<00:00,  4.33it/s]\n"
          ]
        },
        {
          "output_type": "stream",
          "name": "stdout",
          "text": [
            "\n",
            "Test set: Average loss: 0.6801, Accuracy: 7681/10000 (76.81%)\n",
            "\n",
            "EPOCH: 28\n"
          ]
        },
        {
          "output_type": "stream",
          "name": "stderr",
          "text": [
            "Loss=0.5963684320449829 Batch_id=97 Accuracy=76.14: 100%|██████████| 98/98 [00:22<00:00,  4.35it/s]\n"
          ]
        },
        {
          "output_type": "stream",
          "name": "stdout",
          "text": [
            "\n",
            "Test set: Average loss: 0.6673, Accuracy: 7736/10000 (77.36%)\n",
            "\n",
            "EPOCH: 29\n"
          ]
        },
        {
          "output_type": "stream",
          "name": "stderr",
          "text": [
            "Loss=0.6073868870735168 Batch_id=97 Accuracy=76.32: 100%|██████████| 98/98 [00:22<00:00,  4.28it/s]\n"
          ]
        },
        {
          "output_type": "stream",
          "name": "stdout",
          "text": [
            "\n",
            "Test set: Average loss: 0.6308, Accuracy: 7876/10000 (78.76%)\n",
            "\n",
            "EPOCH: 30\n"
          ]
        },
        {
          "output_type": "stream",
          "name": "stderr",
          "text": [
            "Loss=0.676568865776062 Batch_id=97 Accuracy=76.67: 100%|██████████| 98/98 [00:22<00:00,  4.32it/s]\n"
          ]
        },
        {
          "output_type": "stream",
          "name": "stdout",
          "text": [
            "\n",
            "Test set: Average loss: 0.6296, Accuracy: 7849/10000 (78.49%)\n",
            "\n",
            "EPOCH: 31\n"
          ]
        },
        {
          "output_type": "stream",
          "name": "stderr",
          "text": [
            "Loss=0.7062352299690247 Batch_id=97 Accuracy=76.77: 100%|██████████| 98/98 [00:22<00:00,  4.35it/s]\n"
          ]
        },
        {
          "output_type": "stream",
          "name": "stdout",
          "text": [
            "\n",
            "Test set: Average loss: 0.5999, Accuracy: 7944/10000 (79.44%)\n",
            "\n",
            "EPOCH: 32\n"
          ]
        },
        {
          "output_type": "stream",
          "name": "stderr",
          "text": [
            "Loss=0.6588597297668457 Batch_id=97 Accuracy=77.50: 100%|██████████| 98/98 [00:22<00:00,  4.33it/s]\n"
          ]
        },
        {
          "output_type": "stream",
          "name": "stdout",
          "text": [
            "\n",
            "Test set: Average loss: 0.6089, Accuracy: 7923/10000 (79.23%)\n",
            "\n",
            "EPOCH: 33\n"
          ]
        },
        {
          "output_type": "stream",
          "name": "stderr",
          "text": [
            "Loss=0.6082819700241089 Batch_id=97 Accuracy=77.06: 100%|██████████| 98/98 [00:22<00:00,  4.33it/s]\n"
          ]
        },
        {
          "output_type": "stream",
          "name": "stdout",
          "text": [
            "\n",
            "Test set: Average loss: 0.6018, Accuracy: 7941/10000 (79.41%)\n",
            "\n",
            "EPOCH: 34\n"
          ]
        },
        {
          "output_type": "stream",
          "name": "stderr",
          "text": [
            "Loss=0.6603699922561646 Batch_id=97 Accuracy=77.47: 100%|██████████| 98/98 [00:22<00:00,  4.32it/s]\n"
          ]
        },
        {
          "output_type": "stream",
          "name": "stdout",
          "text": [
            "\n",
            "Test set: Average loss: 0.5907, Accuracy: 7994/10000 (79.94%)\n",
            "\n",
            "EPOCH: 35\n"
          ]
        },
        {
          "output_type": "stream",
          "name": "stderr",
          "text": [
            "Loss=0.6898497343063354 Batch_id=97 Accuracy=77.94: 100%|██████████| 98/98 [00:22<00:00,  4.31it/s]\n"
          ]
        },
        {
          "output_type": "stream",
          "name": "stdout",
          "text": [
            "\n",
            "Test set: Average loss: 0.6274, Accuracy: 7893/10000 (78.93%)\n",
            "\n",
            "EPOCH: 36\n"
          ]
        },
        {
          "output_type": "stream",
          "name": "stderr",
          "text": [
            "Loss=0.6368191242218018 Batch_id=97 Accuracy=77.92: 100%|██████████| 98/98 [00:22<00:00,  4.32it/s]\n"
          ]
        },
        {
          "output_type": "stream",
          "name": "stdout",
          "text": [
            "\n",
            "Test set: Average loss: 0.5803, Accuracy: 8048/10000 (80.48%)\n",
            "\n",
            "EPOCH: 37\n"
          ]
        },
        {
          "output_type": "stream",
          "name": "stderr",
          "text": [
            "Loss=0.6225221157073975 Batch_id=97 Accuracy=78.13: 100%|██████████| 98/98 [00:22<00:00,  4.35it/s]\n"
          ]
        },
        {
          "output_type": "stream",
          "name": "stdout",
          "text": [
            "\n",
            "Test set: Average loss: 0.5914, Accuracy: 8014/10000 (80.14%)\n",
            "\n",
            "EPOCH: 38\n"
          ]
        },
        {
          "output_type": "stream",
          "name": "stderr",
          "text": [
            "Loss=0.6707748770713806 Batch_id=97 Accuracy=78.42: 100%|██████████| 98/98 [00:22<00:00,  4.31it/s]\n"
          ]
        },
        {
          "output_type": "stream",
          "name": "stdout",
          "text": [
            "\n",
            "Test set: Average loss: 0.5551, Accuracy: 8102/10000 (81.02%)\n",
            "\n",
            "EPOCH: 39\n"
          ]
        },
        {
          "output_type": "stream",
          "name": "stderr",
          "text": [
            "Loss=0.5700889825820923 Batch_id=97 Accuracy=78.85: 100%|██████████| 98/98 [00:22<00:00,  4.32it/s]\n"
          ]
        },
        {
          "output_type": "stream",
          "name": "stdout",
          "text": [
            "\n",
            "Test set: Average loss: 0.5865, Accuracy: 8020/10000 (80.20%)\n",
            "\n",
            "EPOCH: 40\n"
          ]
        },
        {
          "output_type": "stream",
          "name": "stderr",
          "text": [
            "Loss=0.6980969905853271 Batch_id=97 Accuracy=78.80: 100%|██████████| 98/98 [00:23<00:00,  4.25it/s]\n"
          ]
        },
        {
          "output_type": "stream",
          "name": "stdout",
          "text": [
            "\n",
            "Test set: Average loss: 0.5664, Accuracy: 8074/10000 (80.74%)\n",
            "\n",
            "EPOCH: 41\n"
          ]
        },
        {
          "output_type": "stream",
          "name": "stderr",
          "text": [
            "Loss=0.5899388194084167 Batch_id=97 Accuracy=79.16: 100%|██████████| 98/98 [00:23<00:00,  4.21it/s]\n"
          ]
        },
        {
          "output_type": "stream",
          "name": "stdout",
          "text": [
            "\n",
            "Test set: Average loss: 0.5861, Accuracy: 8018/10000 (80.18%)\n",
            "\n",
            "EPOCH: 42\n"
          ]
        },
        {
          "output_type": "stream",
          "name": "stderr",
          "text": [
            "Loss=0.6106780171394348 Batch_id=97 Accuracy=79.41: 100%|██████████| 98/98 [00:22<00:00,  4.30it/s]\n"
          ]
        },
        {
          "output_type": "stream",
          "name": "stdout",
          "text": [
            "\n",
            "Test set: Average loss: 0.5403, Accuracy: 8192/10000 (81.92%)\n",
            "\n",
            "EPOCH: 43\n"
          ]
        },
        {
          "output_type": "stream",
          "name": "stderr",
          "text": [
            "Loss=0.6944620013237 Batch_id=97 Accuracy=79.42: 100%|██████████| 98/98 [00:22<00:00,  4.28it/s]\n"
          ]
        },
        {
          "output_type": "stream",
          "name": "stdout",
          "text": [
            "\n",
            "Test set: Average loss: 0.5703, Accuracy: 8068/10000 (80.68%)\n",
            "\n",
            "EPOCH: 44\n"
          ]
        },
        {
          "output_type": "stream",
          "name": "stderr",
          "text": [
            "Loss=0.7150722146034241 Batch_id=97 Accuracy=79.42: 100%|██████████| 98/98 [00:22<00:00,  4.35it/s]\n"
          ]
        },
        {
          "output_type": "stream",
          "name": "stdout",
          "text": [
            "\n",
            "Test set: Average loss: 0.5416, Accuracy: 8185/10000 (81.85%)\n",
            "\n",
            "EPOCH: 45\n"
          ]
        },
        {
          "output_type": "stream",
          "name": "stderr",
          "text": [
            "Loss=0.6039984226226807 Batch_id=97 Accuracy=79.57: 100%|██████████| 98/98 [00:22<00:00,  4.34it/s]\n"
          ]
        },
        {
          "output_type": "stream",
          "name": "stdout",
          "text": [
            "\n",
            "Test set: Average loss: 0.5571, Accuracy: 8101/10000 (81.01%)\n",
            "\n",
            "EPOCH: 46\n"
          ]
        },
        {
          "output_type": "stream",
          "name": "stderr",
          "text": [
            "Loss=0.5455436706542969 Batch_id=97 Accuracy=80.01: 100%|██████████| 98/98 [00:22<00:00,  4.32it/s]\n"
          ]
        },
        {
          "output_type": "stream",
          "name": "stdout",
          "text": [
            "\n",
            "Test set: Average loss: 0.5619, Accuracy: 8113/10000 (81.13%)\n",
            "\n",
            "EPOCH: 47\n"
          ]
        },
        {
          "output_type": "stream",
          "name": "stderr",
          "text": [
            "Loss=0.5530222654342651 Batch_id=97 Accuracy=80.27: 100%|██████████| 98/98 [00:22<00:00,  4.34it/s]\n"
          ]
        },
        {
          "output_type": "stream",
          "name": "stdout",
          "text": [
            "\n",
            "Test set: Average loss: 0.5548, Accuracy: 8171/10000 (81.71%)\n",
            "\n",
            "EPOCH: 48\n"
          ]
        },
        {
          "output_type": "stream",
          "name": "stderr",
          "text": [
            "Loss=0.5526221394538879 Batch_id=97 Accuracy=80.34: 100%|██████████| 98/98 [00:22<00:00,  4.28it/s]\n"
          ]
        },
        {
          "output_type": "stream",
          "name": "stdout",
          "text": [
            "\n",
            "Test set: Average loss: 0.5266, Accuracy: 8219/10000 (82.19%)\n",
            "\n",
            "EPOCH: 49\n"
          ]
        },
        {
          "output_type": "stream",
          "name": "stderr",
          "text": [
            "Loss=0.6091122031211853 Batch_id=97 Accuracy=80.17: 100%|██████████| 98/98 [00:22<00:00,  4.33it/s]\n"
          ]
        },
        {
          "output_type": "stream",
          "name": "stdout",
          "text": [
            "\n",
            "Test set: Average loss: 0.5247, Accuracy: 8201/10000 (82.01%)\n",
            "\n",
            "EPOCH: 50\n"
          ]
        },
        {
          "output_type": "stream",
          "name": "stderr",
          "text": [
            "Loss=0.604286789894104 Batch_id=97 Accuracy=80.60: 100%|██████████| 98/98 [00:22<00:00,  4.35it/s]\n"
          ]
        },
        {
          "output_type": "stream",
          "name": "stdout",
          "text": [
            "\n",
            "Test set: Average loss: 0.5457, Accuracy: 8151/10000 (81.51%)\n",
            "\n",
            "EPOCH: 51\n"
          ]
        },
        {
          "output_type": "stream",
          "name": "stderr",
          "text": [
            "Loss=0.530721127986908 Batch_id=97 Accuracy=80.96: 100%|██████████| 98/98 [00:22<00:00,  4.35it/s]\n"
          ]
        },
        {
          "output_type": "stream",
          "name": "stdout",
          "text": [
            "\n",
            "Test set: Average loss: 0.6274, Accuracy: 7937/10000 (79.37%)\n",
            "\n",
            "EPOCH: 52\n"
          ]
        },
        {
          "output_type": "stream",
          "name": "stderr",
          "text": [
            "Loss=0.557353675365448 Batch_id=97 Accuracy=81.13: 100%|██████████| 98/98 [00:22<00:00,  4.34it/s]\n"
          ]
        },
        {
          "output_type": "stream",
          "name": "stdout",
          "text": [
            "\n",
            "Test set: Average loss: 0.5328, Accuracy: 8215/10000 (82.15%)\n",
            "\n",
            "EPOCH: 53\n"
          ]
        },
        {
          "output_type": "stream",
          "name": "stderr",
          "text": [
            "Loss=0.5755714774131775 Batch_id=97 Accuracy=81.27: 100%|██████████| 98/98 [00:22<00:00,  4.33it/s]\n"
          ]
        },
        {
          "output_type": "stream",
          "name": "stdout",
          "text": [
            "\n",
            "Test set: Average loss: 0.5099, Accuracy: 8286/10000 (82.86%)\n",
            "\n",
            "EPOCH: 54\n"
          ]
        },
        {
          "output_type": "stream",
          "name": "stderr",
          "text": [
            "Loss=0.5130887031555176 Batch_id=97 Accuracy=81.12: 100%|██████████| 98/98 [00:23<00:00,  4.24it/s]\n"
          ]
        },
        {
          "output_type": "stream",
          "name": "stdout",
          "text": [
            "\n",
            "Test set: Average loss: 0.5225, Accuracy: 8263/10000 (82.63%)\n",
            "\n",
            "EPOCH: 55\n"
          ]
        },
        {
          "output_type": "stream",
          "name": "stderr",
          "text": [
            "Loss=0.44353777170181274 Batch_id=97 Accuracy=81.27: 100%|██████████| 98/98 [00:22<00:00,  4.35it/s]\n"
          ]
        },
        {
          "output_type": "stream",
          "name": "stdout",
          "text": [
            "\n",
            "Test set: Average loss: 0.5406, Accuracy: 8202/10000 (82.02%)\n",
            "\n",
            "EPOCH: 56\n"
          ]
        },
        {
          "output_type": "stream",
          "name": "stderr",
          "text": [
            "Loss=0.49394431710243225 Batch_id=97 Accuracy=81.58: 100%|██████████| 98/98 [00:22<00:00,  4.30it/s]\n"
          ]
        },
        {
          "output_type": "stream",
          "name": "stdout",
          "text": [
            "\n",
            "Test set: Average loss: 0.5352, Accuracy: 8225/10000 (82.25%)\n",
            "\n",
            "EPOCH: 57\n"
          ]
        },
        {
          "output_type": "stream",
          "name": "stderr",
          "text": [
            "Loss=0.5471504926681519 Batch_id=97 Accuracy=81.57: 100%|██████████| 98/98 [00:22<00:00,  4.34it/s]\n"
          ]
        },
        {
          "output_type": "stream",
          "name": "stdout",
          "text": [
            "\n",
            "Test set: Average loss: 0.5242, Accuracy: 8272/10000 (82.72%)\n",
            "\n",
            "EPOCH: 58\n"
          ]
        },
        {
          "output_type": "stream",
          "name": "stderr",
          "text": [
            "Loss=0.5593963265419006 Batch_id=97 Accuracy=81.70: 100%|██████████| 98/98 [00:22<00:00,  4.33it/s]\n"
          ]
        },
        {
          "output_type": "stream",
          "name": "stdout",
          "text": [
            "\n",
            "Test set: Average loss: 0.5112, Accuracy: 8275/10000 (82.75%)\n",
            "\n",
            "EPOCH: 59\n"
          ]
        },
        {
          "output_type": "stream",
          "name": "stderr",
          "text": [
            "Loss=0.46915870904922485 Batch_id=97 Accuracy=81.78: 100%|██████████| 98/98 [00:22<00:00,  4.30it/s]\n"
          ]
        },
        {
          "output_type": "stream",
          "name": "stdout",
          "text": [
            "\n",
            "Test set: Average loss: 0.4945, Accuracy: 8326/10000 (83.26%)\n",
            "\n",
            "EPOCH: 60\n"
          ]
        },
        {
          "output_type": "stream",
          "name": "stderr",
          "text": [
            "Loss=0.4542037844657898 Batch_id=97 Accuracy=82.11: 100%|██████████| 98/98 [00:22<00:00,  4.29it/s]\n"
          ]
        },
        {
          "output_type": "stream",
          "name": "stdout",
          "text": [
            "\n",
            "Test set: Average loss: 0.5072, Accuracy: 8291/10000 (82.91%)\n",
            "\n",
            "EPOCH: 61\n"
          ]
        },
        {
          "output_type": "stream",
          "name": "stderr",
          "text": [
            "Loss=0.4693950414657593 Batch_id=97 Accuracy=81.97: 100%|██████████| 98/98 [00:22<00:00,  4.33it/s]\n"
          ]
        },
        {
          "output_type": "stream",
          "name": "stdout",
          "text": [
            "\n",
            "Test set: Average loss: 0.5027, Accuracy: 8339/10000 (83.39%)\n",
            "\n",
            "EPOCH: 62\n"
          ]
        },
        {
          "output_type": "stream",
          "name": "stderr",
          "text": [
            "Loss=0.4940794110298157 Batch_id=97 Accuracy=82.07: 100%|██████████| 98/98 [00:22<00:00,  4.32it/s]\n"
          ]
        },
        {
          "output_type": "stream",
          "name": "stdout",
          "text": [
            "\n",
            "Test set: Average loss: 0.5187, Accuracy: 8264/10000 (82.64%)\n",
            "\n",
            "EPOCH: 63\n"
          ]
        },
        {
          "output_type": "stream",
          "name": "stderr",
          "text": [
            "Loss=0.511946976184845 Batch_id=97 Accuracy=82.18: 100%|██████████| 98/98 [00:22<00:00,  4.33it/s]\n"
          ]
        },
        {
          "output_type": "stream",
          "name": "stdout",
          "text": [
            "\n",
            "Test set: Average loss: 0.5231, Accuracy: 8242/10000 (82.42%)\n",
            "\n",
            "EPOCH: 64\n"
          ]
        },
        {
          "output_type": "stream",
          "name": "stderr",
          "text": [
            "Loss=0.5300515294075012 Batch_id=97 Accuracy=82.30: 100%|██████████| 98/98 [00:22<00:00,  4.33it/s]\n"
          ]
        },
        {
          "output_type": "stream",
          "name": "stdout",
          "text": [
            "\n",
            "Test set: Average loss: 0.5144, Accuracy: 8258/10000 (82.58%)\n",
            "\n",
            "EPOCH: 65\n"
          ]
        },
        {
          "output_type": "stream",
          "name": "stderr",
          "text": [
            "Loss=0.5193744897842407 Batch_id=97 Accuracy=82.38: 100%|██████████| 98/98 [00:22<00:00,  4.32it/s]\n"
          ]
        },
        {
          "output_type": "stream",
          "name": "stdout",
          "text": [
            "\n",
            "Test set: Average loss: 0.5377, Accuracy: 8182/10000 (81.82%)\n",
            "\n",
            "EPOCH: 66\n"
          ]
        },
        {
          "output_type": "stream",
          "name": "stderr",
          "text": [
            "Loss=0.49232974648475647 Batch_id=97 Accuracy=82.43: 100%|██████████| 98/98 [00:23<00:00,  4.25it/s]\n"
          ]
        },
        {
          "output_type": "stream",
          "name": "stdout",
          "text": [
            "\n",
            "Test set: Average loss: 0.5137, Accuracy: 8322/10000 (83.22%)\n",
            "\n",
            "EPOCH: 67\n"
          ]
        },
        {
          "output_type": "stream",
          "name": "stderr",
          "text": [
            "Loss=0.5054553151130676 Batch_id=97 Accuracy=82.47: 100%|██████████| 98/98 [00:22<00:00,  4.34it/s]\n"
          ]
        },
        {
          "output_type": "stream",
          "name": "stdout",
          "text": [
            "\n",
            "Test set: Average loss: 0.5141, Accuracy: 8328/10000 (83.28%)\n",
            "\n",
            "EPOCH: 68\n"
          ]
        },
        {
          "output_type": "stream",
          "name": "stderr",
          "text": [
            "Loss=0.4891015887260437 Batch_id=97 Accuracy=82.57: 100%|██████████| 98/98 [00:22<00:00,  4.33it/s]\n"
          ]
        },
        {
          "output_type": "stream",
          "name": "stdout",
          "text": [
            "\n",
            "Test set: Average loss: 0.4970, Accuracy: 8325/10000 (83.25%)\n",
            "\n",
            "EPOCH: 69\n"
          ]
        },
        {
          "output_type": "stream",
          "name": "stderr",
          "text": [
            "Loss=0.4580997824668884 Batch_id=97 Accuracy=83.07: 100%|██████████| 98/98 [00:22<00:00,  4.32it/s]\n"
          ]
        },
        {
          "output_type": "stream",
          "name": "stdout",
          "text": [
            "\n",
            "Test set: Average loss: 0.5093, Accuracy: 8295/10000 (82.95%)\n",
            "\n",
            "EPOCH: 70\n"
          ]
        },
        {
          "output_type": "stream",
          "name": "stderr",
          "text": [
            "Loss=0.419045090675354 Batch_id=97 Accuracy=82.75: 100%|██████████| 98/98 [00:22<00:00,  4.33it/s]\n"
          ]
        },
        {
          "output_type": "stream",
          "name": "stdout",
          "text": [
            "\n",
            "Test set: Average loss: 0.4943, Accuracy: 8342/10000 (83.42%)\n",
            "\n",
            "EPOCH: 71\n"
          ]
        },
        {
          "output_type": "stream",
          "name": "stderr",
          "text": [
            "Loss=0.4992566704750061 Batch_id=97 Accuracy=82.96: 100%|██████████| 98/98 [00:22<00:00,  4.27it/s]\n"
          ]
        },
        {
          "output_type": "stream",
          "name": "stdout",
          "text": [
            "\n",
            "Test set: Average loss: 0.5045, Accuracy: 8314/10000 (83.14%)\n",
            "\n",
            "EPOCH: 72\n"
          ]
        },
        {
          "output_type": "stream",
          "name": "stderr",
          "text": [
            "Loss=0.5081639289855957 Batch_id=97 Accuracy=83.09: 100%|██████████| 98/98 [00:22<00:00,  4.30it/s]\n"
          ]
        },
        {
          "output_type": "stream",
          "name": "stdout",
          "text": [
            "\n",
            "Test set: Average loss: 0.4897, Accuracy: 8367/10000 (83.67%)\n",
            "\n",
            "EPOCH: 73\n"
          ]
        },
        {
          "output_type": "stream",
          "name": "stderr",
          "text": [
            "Loss=0.43206068873405457 Batch_id=97 Accuracy=82.82: 100%|██████████| 98/98 [00:22<00:00,  4.31it/s]\n"
          ]
        },
        {
          "output_type": "stream",
          "name": "stdout",
          "text": [
            "\n",
            "Test set: Average loss: 0.4774, Accuracy: 8402/10000 (84.02%)\n",
            "\n",
            "EPOCH: 74\n"
          ]
        },
        {
          "output_type": "stream",
          "name": "stderr",
          "text": [
            "Loss=0.47002989053726196 Batch_id=97 Accuracy=83.35: 100%|██████████| 98/98 [00:22<00:00,  4.33it/s]\n"
          ]
        },
        {
          "output_type": "stream",
          "name": "stdout",
          "text": [
            "\n",
            "Test set: Average loss: 0.5043, Accuracy: 8317/10000 (83.17%)\n",
            "\n",
            "EPOCH: 75\n"
          ]
        },
        {
          "output_type": "stream",
          "name": "stderr",
          "text": [
            "Loss=0.533879280090332 Batch_id=97 Accuracy=83.44: 100%|██████████| 98/98 [00:22<00:00,  4.33it/s]\n"
          ]
        },
        {
          "output_type": "stream",
          "name": "stdout",
          "text": [
            "\n",
            "Test set: Average loss: 0.5198, Accuracy: 8254/10000 (82.54%)\n",
            "\n",
            "EPOCH: 76\n"
          ]
        },
        {
          "output_type": "stream",
          "name": "stderr",
          "text": [
            "Loss=0.4727672338485718 Batch_id=97 Accuracy=83.08: 100%|██████████| 98/98 [00:22<00:00,  4.34it/s]\n"
          ]
        },
        {
          "output_type": "stream",
          "name": "stdout",
          "text": [
            "\n",
            "Test set: Average loss: 0.4803, Accuracy: 8384/10000 (83.84%)\n",
            "\n",
            "EPOCH: 77\n"
          ]
        },
        {
          "output_type": "stream",
          "name": "stderr",
          "text": [
            "Loss=0.46186965703964233 Batch_id=97 Accuracy=83.57: 100%|██████████| 98/98 [00:22<00:00,  4.27it/s]\n"
          ]
        },
        {
          "output_type": "stream",
          "name": "stdout",
          "text": [
            "\n",
            "Test set: Average loss: 0.4969, Accuracy: 8384/10000 (83.84%)\n",
            "\n",
            "EPOCH: 78\n"
          ]
        },
        {
          "output_type": "stream",
          "name": "stderr",
          "text": [
            "Loss=0.44770416617393494 Batch_id=97 Accuracy=83.39: 100%|██████████| 98/98 [00:22<00:00,  4.32it/s]\n"
          ]
        },
        {
          "output_type": "stream",
          "name": "stdout",
          "text": [
            "\n",
            "Test set: Average loss: 0.4942, Accuracy: 8383/10000 (83.83%)\n",
            "\n",
            "EPOCH: 79\n"
          ]
        },
        {
          "output_type": "stream",
          "name": "stderr",
          "text": [
            "Loss=0.5091321468353271 Batch_id=97 Accuracy=83.58: 100%|██████████| 98/98 [00:22<00:00,  4.31it/s]\n"
          ]
        },
        {
          "output_type": "stream",
          "name": "stdout",
          "text": [
            "\n",
            "Test set: Average loss: 0.4756, Accuracy: 8414/10000 (84.14%)\n",
            "\n",
            "EPOCH: 80\n"
          ]
        },
        {
          "output_type": "stream",
          "name": "stderr",
          "text": [
            "Loss=0.4736570715904236 Batch_id=97 Accuracy=83.82: 100%|██████████| 98/98 [00:22<00:00,  4.33it/s]\n"
          ]
        },
        {
          "output_type": "stream",
          "name": "stdout",
          "text": [
            "\n",
            "Test set: Average loss: 0.5040, Accuracy: 8342/10000 (83.42%)\n",
            "\n",
            "EPOCH: 81\n"
          ]
        },
        {
          "output_type": "stream",
          "name": "stderr",
          "text": [
            "Loss=0.43773728609085083 Batch_id=97 Accuracy=83.82: 100%|██████████| 98/98 [00:22<00:00,  4.29it/s]\n"
          ]
        },
        {
          "output_type": "stream",
          "name": "stdout",
          "text": [
            "\n",
            "Test set: Average loss: 0.4917, Accuracy: 8372/10000 (83.72%)\n",
            "\n",
            "EPOCH: 82\n"
          ]
        },
        {
          "output_type": "stream",
          "name": "stderr",
          "text": [
            "Loss=0.3961838185787201 Batch_id=97 Accuracy=83.81: 100%|██████████| 98/98 [00:22<00:00,  4.28it/s]\n"
          ]
        },
        {
          "output_type": "stream",
          "name": "stdout",
          "text": [
            "\n",
            "Test set: Average loss: 0.4739, Accuracy: 8430/10000 (84.30%)\n",
            "\n",
            "EPOCH: 83\n"
          ]
        },
        {
          "output_type": "stream",
          "name": "stderr",
          "text": [
            "Loss=0.5224393010139465 Batch_id=97 Accuracy=83.66: 100%|██████████| 98/98 [00:22<00:00,  4.32it/s]\n"
          ]
        },
        {
          "output_type": "stream",
          "name": "stdout",
          "text": [
            "\n",
            "Test set: Average loss: 0.4847, Accuracy: 8395/10000 (83.95%)\n",
            "\n",
            "EPOCH: 84\n"
          ]
        },
        {
          "output_type": "stream",
          "name": "stderr",
          "text": [
            "Loss=0.4276234209537506 Batch_id=97 Accuracy=84.06: 100%|██████████| 98/98 [00:22<00:00,  4.31it/s]\n"
          ]
        },
        {
          "output_type": "stream",
          "name": "stdout",
          "text": [
            "\n",
            "Test set: Average loss: 0.4796, Accuracy: 8437/10000 (84.37%)\n",
            "\n",
            "EPOCH: 85\n"
          ]
        },
        {
          "output_type": "stream",
          "name": "stderr",
          "text": [
            "Loss=0.4527796804904938 Batch_id=97 Accuracy=84.21: 100%|██████████| 98/98 [00:22<00:00,  4.33it/s]\n"
          ]
        },
        {
          "output_type": "stream",
          "name": "stdout",
          "text": [
            "\n",
            "Test set: Average loss: 0.4802, Accuracy: 8432/10000 (84.32%)\n",
            "\n",
            "EPOCH: 86\n"
          ]
        },
        {
          "output_type": "stream",
          "name": "stderr",
          "text": [
            "Loss=0.4752562940120697 Batch_id=97 Accuracy=84.12: 100%|██████████| 98/98 [00:22<00:00,  4.33it/s]\n"
          ]
        },
        {
          "output_type": "stream",
          "name": "stdout",
          "text": [
            "\n",
            "Test set: Average loss: 0.4727, Accuracy: 8446/10000 (84.46%)\n",
            "\n",
            "EPOCH: 87\n"
          ]
        },
        {
          "output_type": "stream",
          "name": "stderr",
          "text": [
            "Loss=0.4579952657222748 Batch_id=97 Accuracy=83.99: 100%|██████████| 98/98 [00:23<00:00,  4.24it/s]\n"
          ]
        },
        {
          "output_type": "stream",
          "name": "stdout",
          "text": [
            "\n",
            "Test set: Average loss: 0.4957, Accuracy: 8347/10000 (83.47%)\n",
            "\n",
            "EPOCH: 88\n"
          ]
        },
        {
          "output_type": "stream",
          "name": "stderr",
          "text": [
            "Loss=0.4448115825653076 Batch_id=97 Accuracy=84.42: 100%|██████████| 98/98 [00:22<00:00,  4.32it/s]\n"
          ]
        },
        {
          "output_type": "stream",
          "name": "stdout",
          "text": [
            "\n",
            "Test set: Average loss: 0.4854, Accuracy: 8414/10000 (84.14%)\n",
            "\n",
            "EPOCH: 89\n"
          ]
        },
        {
          "output_type": "stream",
          "name": "stderr",
          "text": [
            "Loss=0.391080766916275 Batch_id=97 Accuracy=84.23: 100%|██████████| 98/98 [00:22<00:00,  4.32it/s]\n"
          ]
        },
        {
          "output_type": "stream",
          "name": "stdout",
          "text": [
            "\n",
            "Test set: Average loss: 0.4831, Accuracy: 8417/10000 (84.17%)\n",
            "\n",
            "EPOCH: 90\n"
          ]
        },
        {
          "output_type": "stream",
          "name": "stderr",
          "text": [
            "Loss=0.3536374568939209 Batch_id=97 Accuracy=84.61: 100%|██████████| 98/98 [00:22<00:00,  4.31it/s]\n"
          ]
        },
        {
          "output_type": "stream",
          "name": "stdout",
          "text": [
            "\n",
            "Test set: Average loss: 0.4682, Accuracy: 8461/10000 (84.61%)\n",
            "\n",
            "EPOCH: 91\n"
          ]
        },
        {
          "output_type": "stream",
          "name": "stderr",
          "text": [
            "Loss=0.46653226017951965 Batch_id=97 Accuracy=84.36: 100%|██████████| 98/98 [00:22<00:00,  4.32it/s]\n"
          ]
        },
        {
          "output_type": "stream",
          "name": "stdout",
          "text": [
            "\n",
            "Test set: Average loss: 0.4760, Accuracy: 8405/10000 (84.05%)\n",
            "\n",
            "EPOCH: 92\n"
          ]
        },
        {
          "output_type": "stream",
          "name": "stderr",
          "text": [
            "Loss=0.5079003572463989 Batch_id=97 Accuracy=84.65: 100%|██████████| 98/98 [00:22<00:00,  4.31it/s]\n"
          ]
        },
        {
          "output_type": "stream",
          "name": "stdout",
          "text": [
            "\n",
            "Test set: Average loss: 0.4902, Accuracy: 8393/10000 (83.93%)\n",
            "\n",
            "EPOCH: 93\n"
          ]
        },
        {
          "output_type": "stream",
          "name": "stderr",
          "text": [
            "Loss=0.390511691570282 Batch_id=97 Accuracy=84.70: 100%|██████████| 98/98 [00:22<00:00,  4.28it/s]\n"
          ]
        },
        {
          "output_type": "stream",
          "name": "stdout",
          "text": [
            "\n",
            "Test set: Average loss: 0.5176, Accuracy: 8314/10000 (83.14%)\n",
            "\n",
            "EPOCH: 94\n"
          ]
        },
        {
          "output_type": "stream",
          "name": "stderr",
          "text": [
            "Loss=0.500611424446106 Batch_id=97 Accuracy=84.67: 100%|██████████| 98/98 [00:22<00:00,  4.35it/s]\n"
          ]
        },
        {
          "output_type": "stream",
          "name": "stdout",
          "text": [
            "\n",
            "Test set: Average loss: 0.4893, Accuracy: 8374/10000 (83.74%)\n",
            "\n",
            "EPOCH: 95\n"
          ]
        },
        {
          "output_type": "stream",
          "name": "stderr",
          "text": [
            "Loss=0.440256267786026 Batch_id=97 Accuracy=84.69: 100%|██████████| 98/98 [00:22<00:00,  4.31it/s]\n"
          ]
        },
        {
          "output_type": "stream",
          "name": "stdout",
          "text": [
            "\n",
            "Test set: Average loss: 0.4672, Accuracy: 8425/10000 (84.25%)\n",
            "\n",
            "EPOCH: 96\n"
          ]
        },
        {
          "output_type": "stream",
          "name": "stderr",
          "text": [
            "Loss=0.4857443869113922 Batch_id=97 Accuracy=84.82: 100%|██████████| 98/98 [00:22<00:00,  4.33it/s]\n"
          ]
        },
        {
          "output_type": "stream",
          "name": "stdout",
          "text": [
            "\n",
            "Test set: Average loss: 0.4807, Accuracy: 8417/10000 (84.17%)\n",
            "\n",
            "EPOCH: 97\n"
          ]
        },
        {
          "output_type": "stream",
          "name": "stderr",
          "text": [
            "Loss=0.4255894720554352 Batch_id=97 Accuracy=84.78: 100%|██████████| 98/98 [00:22<00:00,  4.34it/s]\n"
          ]
        },
        {
          "output_type": "stream",
          "name": "stdout",
          "text": [
            "\n",
            "Test set: Average loss: 0.4789, Accuracy: 8441/10000 (84.41%)\n",
            "\n",
            "EPOCH: 98\n"
          ]
        },
        {
          "output_type": "stream",
          "name": "stderr",
          "text": [
            "Loss=0.33344459533691406 Batch_id=97 Accuracy=85.02: 100%|██████████| 98/98 [00:23<00:00,  4.25it/s]\n"
          ]
        },
        {
          "output_type": "stream",
          "name": "stdout",
          "text": [
            "\n",
            "Test set: Average loss: 0.4557, Accuracy: 8501/10000 (85.01%)\n",
            "\n",
            "EPOCH: 99\n"
          ]
        },
        {
          "output_type": "stream",
          "name": "stderr",
          "text": [
            "Loss=0.4937214255332947 Batch_id=97 Accuracy=85.11: 100%|██████████| 98/98 [00:22<00:00,  4.31it/s]\n"
          ]
        },
        {
          "output_type": "stream",
          "name": "stdout",
          "text": [
            "\n",
            "Test set: Average loss: 0.4853, Accuracy: 8431/10000 (84.31%)\n",
            "\n",
            "EPOCH: 100\n"
          ]
        },
        {
          "output_type": "stream",
          "name": "stderr",
          "text": [
            "Loss=0.44651108980178833 Batch_id=97 Accuracy=84.95: 100%|██████████| 98/98 [00:22<00:00,  4.32it/s]\n"
          ]
        },
        {
          "output_type": "stream",
          "name": "stdout",
          "text": [
            "\n",
            "Test set: Average loss: 0.4701, Accuracy: 8437/10000 (84.37%)\n",
            "\n",
            "EPOCH: 101\n"
          ]
        },
        {
          "output_type": "stream",
          "name": "stderr",
          "text": [
            "Loss=0.47190648317337036 Batch_id=97 Accuracy=84.98: 100%|██████████| 98/98 [00:22<00:00,  4.33it/s]\n"
          ]
        },
        {
          "output_type": "stream",
          "name": "stdout",
          "text": [
            "\n",
            "Test set: Average loss: 0.4623, Accuracy: 8466/10000 (84.66%)\n",
            "\n",
            "EPOCH: 102\n"
          ]
        },
        {
          "output_type": "stream",
          "name": "stderr",
          "text": [
            "Loss=0.4636951982975006 Batch_id=97 Accuracy=85.14: 100%|██████████| 98/98 [00:22<00:00,  4.32it/s]\n"
          ]
        },
        {
          "output_type": "stream",
          "name": "stdout",
          "text": [
            "\n",
            "Test set: Average loss: 0.4685, Accuracy: 8489/10000 (84.89%)\n",
            "\n",
            "EPOCH: 103\n"
          ]
        },
        {
          "output_type": "stream",
          "name": "stderr",
          "text": [
            "Loss=0.5569291114807129 Batch_id=97 Accuracy=85.40: 100%|██████████| 98/98 [00:23<00:00,  4.26it/s]\n"
          ]
        },
        {
          "output_type": "stream",
          "name": "stdout",
          "text": [
            "\n",
            "Test set: Average loss: 0.4717, Accuracy: 8483/10000 (84.83%)\n",
            "\n",
            "EPOCH: 104\n"
          ]
        },
        {
          "output_type": "stream",
          "name": "stderr",
          "text": [
            "Loss=0.42850562930107117 Batch_id=97 Accuracy=85.41: 100%|██████████| 98/98 [00:22<00:00,  4.32it/s]\n"
          ]
        },
        {
          "output_type": "stream",
          "name": "stdout",
          "text": [
            "\n",
            "Test set: Average loss: 0.4568, Accuracy: 8524/10000 (85.24%)\n",
            "\n",
            "EPOCH: 105\n"
          ]
        },
        {
          "output_type": "stream",
          "name": "stderr",
          "text": [
            "Loss=0.34996315836906433 Batch_id=97 Accuracy=85.21: 100%|██████████| 98/98 [00:22<00:00,  4.32it/s]\n"
          ]
        },
        {
          "output_type": "stream",
          "name": "stdout",
          "text": [
            "\n",
            "Test set: Average loss: 0.4696, Accuracy: 8460/10000 (84.60%)\n",
            "\n",
            "EPOCH: 106\n"
          ]
        },
        {
          "output_type": "stream",
          "name": "stderr",
          "text": [
            "Loss=0.44068440794944763 Batch_id=97 Accuracy=85.37: 100%|██████████| 98/98 [00:22<00:00,  4.31it/s]\n"
          ]
        },
        {
          "output_type": "stream",
          "name": "stdout",
          "text": [
            "\n",
            "Test set: Average loss: 0.4596, Accuracy: 8502/10000 (85.02%)\n",
            "\n",
            "EPOCH: 107\n"
          ]
        },
        {
          "output_type": "stream",
          "name": "stderr",
          "text": [
            "Loss=0.37337276339530945 Batch_id=97 Accuracy=85.50: 100%|██████████| 98/98 [00:22<00:00,  4.34it/s]\n"
          ]
        },
        {
          "output_type": "stream",
          "name": "stdout",
          "text": [
            "\n",
            "Test set: Average loss: 0.4643, Accuracy: 8472/10000 (84.72%)\n",
            "\n",
            "EPOCH: 108\n"
          ]
        },
        {
          "output_type": "stream",
          "name": "stderr",
          "text": [
            "Loss=0.3895425796508789 Batch_id=97 Accuracy=85.55: 100%|██████████| 98/98 [00:22<00:00,  4.31it/s]\n"
          ]
        },
        {
          "output_type": "stream",
          "name": "stdout",
          "text": [
            "\n",
            "Test set: Average loss: 0.4812, Accuracy: 8444/10000 (84.44%)\n",
            "\n",
            "EPOCH: 109\n"
          ]
        },
        {
          "output_type": "stream",
          "name": "stderr",
          "text": [
            "Loss=0.4456793963909149 Batch_id=97 Accuracy=85.33: 100%|██████████| 98/98 [00:22<00:00,  4.28it/s]\n"
          ]
        },
        {
          "output_type": "stream",
          "name": "stdout",
          "text": [
            "\n",
            "Test set: Average loss: 0.4711, Accuracy: 8474/10000 (84.74%)\n",
            "\n",
            "EPOCH: 110\n"
          ]
        },
        {
          "output_type": "stream",
          "name": "stderr",
          "text": [
            "Loss=0.4745510518550873 Batch_id=97 Accuracy=85.36: 100%|██████████| 98/98 [00:22<00:00,  4.32it/s]\n"
          ]
        },
        {
          "output_type": "stream",
          "name": "stdout",
          "text": [
            "\n",
            "Test set: Average loss: 0.4462, Accuracy: 8559/10000 (85.59%)\n",
            "\n",
            "EPOCH: 111\n"
          ]
        },
        {
          "output_type": "stream",
          "name": "stderr",
          "text": [
            "Loss=0.3534674048423767 Batch_id=97 Accuracy=85.73: 100%|██████████| 98/98 [00:22<00:00,  4.29it/s]\n"
          ]
        },
        {
          "output_type": "stream",
          "name": "stdout",
          "text": [
            "\n",
            "Test set: Average loss: 0.4644, Accuracy: 8510/10000 (85.10%)\n",
            "\n",
            "EPOCH: 112\n"
          ]
        },
        {
          "output_type": "stream",
          "name": "stderr",
          "text": [
            "Loss=0.3802184462547302 Batch_id=97 Accuracy=85.68: 100%|██████████| 98/98 [00:22<00:00,  4.31it/s]\n"
          ]
        },
        {
          "output_type": "stream",
          "name": "stdout",
          "text": [
            "\n",
            "Test set: Average loss: 0.5043, Accuracy: 8342/10000 (83.42%)\n",
            "\n",
            "EPOCH: 113\n"
          ]
        },
        {
          "output_type": "stream",
          "name": "stderr",
          "text": [
            "Loss=0.3625708222389221 Batch_id=97 Accuracy=85.81: 100%|██████████| 98/98 [00:22<00:00,  4.36it/s]\n"
          ]
        },
        {
          "output_type": "stream",
          "name": "stdout",
          "text": [
            "\n",
            "Test set: Average loss: 0.4806, Accuracy: 8455/10000 (84.55%)\n",
            "\n",
            "EPOCH: 114\n"
          ]
        },
        {
          "output_type": "stream",
          "name": "stderr",
          "text": [
            "Loss=0.4131292700767517 Batch_id=97 Accuracy=86.09: 100%|██████████| 98/98 [00:22<00:00,  4.27it/s]\n"
          ]
        },
        {
          "output_type": "stream",
          "name": "stdout",
          "text": [
            "\n",
            "Test set: Average loss: 0.4587, Accuracy: 8502/10000 (85.02%)\n",
            "\n",
            "EPOCH: 115\n"
          ]
        },
        {
          "output_type": "stream",
          "name": "stderr",
          "text": [
            "Loss=0.36013421416282654 Batch_id=97 Accuracy=85.56: 100%|██████████| 98/98 [00:22<00:00,  4.32it/s]\n"
          ]
        },
        {
          "output_type": "stream",
          "name": "stdout",
          "text": [
            "\n",
            "Test set: Average loss: 0.4495, Accuracy: 8524/10000 (85.24%)\n",
            "\n",
            "EPOCH: 116\n"
          ]
        },
        {
          "output_type": "stream",
          "name": "stderr",
          "text": [
            "Loss=0.4159873425960541 Batch_id=97 Accuracy=85.88: 100%|██████████| 98/98 [00:22<00:00,  4.34it/s]\n"
          ]
        },
        {
          "output_type": "stream",
          "name": "stdout",
          "text": [
            "\n",
            "Test set: Average loss: 0.4437, Accuracy: 8569/10000 (85.69%)\n",
            "\n",
            "EPOCH: 117\n"
          ]
        },
        {
          "output_type": "stream",
          "name": "stderr",
          "text": [
            "Loss=0.4054465889930725 Batch_id=97 Accuracy=86.03: 100%|██████████| 98/98 [00:22<00:00,  4.33it/s]\n"
          ]
        },
        {
          "output_type": "stream",
          "name": "stdout",
          "text": [
            "\n",
            "Test set: Average loss: 0.4403, Accuracy: 8586/10000 (85.86%)\n",
            "\n",
            "EPOCH: 118\n"
          ]
        },
        {
          "output_type": "stream",
          "name": "stderr",
          "text": [
            "Loss=0.4093129634857178 Batch_id=97 Accuracy=85.71: 100%|██████████| 98/98 [00:22<00:00,  4.31it/s]\n"
          ]
        },
        {
          "output_type": "stream",
          "name": "stdout",
          "text": [
            "\n",
            "Test set: Average loss: 0.4500, Accuracy: 8526/10000 (85.26%)\n",
            "\n",
            "EPOCH: 119\n"
          ]
        },
        {
          "output_type": "stream",
          "name": "stderr",
          "text": [
            "Loss=0.2944636046886444 Batch_id=97 Accuracy=85.93: 100%|██████████| 98/98 [00:22<00:00,  4.31it/s]\n"
          ]
        },
        {
          "output_type": "stream",
          "name": "stdout",
          "text": [
            "\n",
            "Test set: Average loss: 0.4570, Accuracy: 8543/10000 (85.43%)\n",
            "\n",
            "EPOCH: 120\n"
          ]
        },
        {
          "output_type": "stream",
          "name": "stderr",
          "text": [
            "Loss=0.4154511094093323 Batch_id=97 Accuracy=85.98: 100%|██████████| 98/98 [00:22<00:00,  4.27it/s]\n"
          ]
        },
        {
          "output_type": "stream",
          "name": "stdout",
          "text": [
            "\n",
            "Test set: Average loss: 0.4631, Accuracy: 8524/10000 (85.24%)\n",
            "\n"
          ]
        }
      ]
    },
    {
      "cell_type": "markdown",
      "source": [
        "### Plotting the Training and Test Losses and accuracy"
      ],
      "metadata": {
        "id": "a6Z7zdSSg94v"
      }
    },
    {
      "cell_type": "code",
      "source": [
        "t = [t_items.item() for t_items in train_losses]\n",
        "%matplotlib inline\n",
        "import matplotlib.pyplot as plt\n",
        "fig, axs = plt.subplots(2,2,figsize=(15,10))\n",
        "axs[0, 0].plot(t)\n",
        "axs[0, 0].set_title(\"Training Loss\")\n",
        "axs[1, 0].plot(train_acc)\n",
        "axs[1, 0].set_title(\"Training Accuracy\")\n",
        "axs[0, 1].plot(test_losses)\n",
        "axs[0, 1].set_title(\"Test Loss\")\n",
        "axs[1, 1].plot(test_acc)\n",
        "axs[1, 1].set_title(\"Test Accuracy\")"
      ],
      "metadata": {
        "id": "I7U6x_duhAUl"
      },
      "execution_count": null,
      "outputs": []
    }
  ]
}